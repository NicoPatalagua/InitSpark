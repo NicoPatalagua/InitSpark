{
  "nbformat": 4,
  "nbformat_minor": 0,
  "metadata": {
    "kernelspec": {
      "display_name": "spylon-kernel",
      "language": "scala",
      "name": "spylon-kernel"
    },
    "language_info": {
      "codemirror_mode": "text/x-scala",
      "file_extension": ".scala",
      "help_links": [
        {
          "text": "MetaKernel Magics",
          "url": "https://metakernel.readthedocs.io/en/latest/source/README.html"
        }
      ],
      "mimetype": "text/x-scala",
      "name": "scala",
      "pygments_lexer": "scala",
      "version": "0.4.1"
    },
    "colab": {
      "name": "InitScalaSpark.ipynb",
      "provenance": [],
      "collapsed_sections": [],
      "include_colab_link": true
    }
  },
  "cells": [
    {
      "cell_type": "markdown",
      "metadata": {
        "id": "view-in-github",
        "colab_type": "text"
      },
      "source": [
        "<a href=\"https://colab.research.google.com/github/NicoPatalagua/Notebooks/blob/master/InitScalaSpark.ipynb\" target=\"_parent\"><img src=\"https://colab.research.google.com/assets/colab-badge.svg\" alt=\"Open In Colab\"/></a>"
      ]
    },
    {
      "cell_type": "markdown",
      "metadata": {
        "id": "ADZArqzyNcX-"
      },
      "source": [
        "# Init Scala Spark"
      ]
    },
    {
      "cell_type": "code",
      "metadata": {
        "id": "4tfX-MNINcYl"
      },
      "source": [
        "%%init_spark\n",
        "launcher.num_executors = 4\n",
        "launcher.executor_cores = 2\n",
        "launcher.driver_memory = '4g'\n",
        "launcher.conf.set(\"spark.sql.catalogImplementation\", \"hive\")"
      ],
      "execution_count": null,
      "outputs": []
    },
    {
      "cell_type": "code",
      "metadata": {
        "id": "hzn7AJlkNcZw",
        "outputId": "b10d09de-11ba-444c-f15e-bde2c3407bd6"
      },
      "source": [
        "spark"
      ],
      "execution_count": null,
      "outputs": [
        {
          "data": {
            "text/plain": [
              "Intitializing Scala interpreter ..."
            ]
          },
          "metadata": {},
          "output_type": "display_data"
        },
        {
          "data": {
            "text/plain": [
              "Spark Web UI available at http://HP840G-DPTH8PHP.SCMS.ms.corp:4040\n",
              "SparkContext available as 'sc' (version = 3.1.1, master = local[*], app id = local-1618350883114)\n",
              "SparkSession available as 'spark'\n"
            ]
          },
          "metadata": {},
          "output_type": "display_data"
        },
        {
          "data": {
            "text/plain": [
              "res0: org.apache.spark.sql.SparkSession = org.apache.spark.sql.SparkSession@28cc9649\r\n"
            ]
          },
          "execution_count": 2,
          "metadata": {},
          "output_type": "execute_result"
        }
      ]
    },
    {
      "cell_type": "code",
      "metadata": {
        "id": "TtOP3f4BNcaz",
        "outputId": "3b8d9c75-47a5-4b8e-9cef-316cacc6f426"
      },
      "source": [
        "spark.version"
      ],
      "execution_count": null,
      "outputs": [
        {
          "data": {
            "text/plain": [
              "res1: String = 3.1.1\r\n"
            ]
          },
          "execution_count": 3,
          "metadata": {},
          "output_type": "execute_result"
        }
      ]
    },
    {
      "cell_type": "code",
      "metadata": {
        "id": "1eXeLhB6Ncbg",
        "outputId": "3e977001-8aa9-460a-9a16-d274f2d2bc10"
      },
      "source": [
        "import org.apache.spark.sql._\n",
        "import org.apache.spark.sql.expressions.Window\n",
        "import org.apache.spark.sql.functions._\n",
        "import org.apache.spark.sql.types._\n",
        "import scala.annotation.switch\n",
        "import java.util.Calendar\n",
        "import java.io._\n",
        "import scala.reflect.io.Directory"
      ],
      "execution_count": null,
      "outputs": [
        {
          "data": {
            "text/plain": [
              "import org.apache.spark.sql._\r\n",
              "import org.apache.spark.sql.expressions.Window\r\n",
              "import org.apache.spark.sql.functions._\r\n",
              "import org.apache.spark.sql.types._\r\n",
              "import scala.annotation.switch\r\n",
              "import java.util.Calendar\r\n",
              "import java.io._\r\n",
              "import scala.reflect.io.Directory\r\n"
            ]
          },
          "execution_count": 4,
          "metadata": {},
          "output_type": "execute_result"
        }
      ]
    },
    {
      "cell_type": "code",
      "metadata": {
        "id": "jJDSYIgjNcb0",
        "outputId": "103288f2-c4b6-440f-e8a3-e4ce504dbfe1"
      },
      "source": [
        "val pathInput = \"C:/Users/alvaro.nicolas.pata1/AppData/Local/Temp/skynet/kirby/hdarvrba/raw/punctual/output/partition_data_year_id=2021/partition_data_month_id=03/partition_data_day_id=07/\"\n"
      ],
      "execution_count": null,
      "outputs": [
        {
          "data": {
            "text/plain": [
              "pathInput: String = C:/Users/alvaro.nicolas.pata1/AppData/Local/Temp/skynet/kirby/hdarvrba/raw/punctual/output/partition_data_year_id=2021/partition_data_month_id=03/partition_data_day_id=07/\r\n"
            ]
          },
          "execution_count": 5,
          "metadata": {},
          "output_type": "execute_result"
        }
      ]
    },
    {
      "cell_type": "code",
      "metadata": {
        "id": "gIaNe1QWNccl"
      },
      "source": [
        "val hdDF = spark.read.format(\"avro\").load(\"examples/src/main/resources/users.avro\")"
      ],
      "execution_count": null,
      "outputs": []
    }
  ]
}