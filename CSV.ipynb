{
 "cells": [
  {
   "cell_type": "code",
   "execution_count": 2,
   "id": "99629364",
   "metadata": {},
   "outputs": [
    {
     "name": "stdout",
     "output_type": "stream",
     "text": [
      "Collecting pandas\n",
      "  Downloading pandas-1.3.5-cp39-cp39-manylinux_2_17_x86_64.manylinux2014_x86_64.whl (11.5 MB)\n",
      "     |████████████████████████████████| 11.5 MB 166 kB/s            \n",
      "\u001b[?25hCollecting pytz>=2017.3\n",
      "  Downloading pytz-2021.3-py2.py3-none-any.whl (503 kB)\n",
      "     |████████████████████████████████| 503 kB 188 kB/s            \n",
      "\u001b[?25hRequirement already satisfied: python-dateutil>=2.7.3 in ./jupyterenv/lib/python3.9/site-packages (from pandas) (2.8.2)\n",
      "Collecting numpy>=1.17.3\n",
      "  Downloading numpy-1.21.4-cp39-cp39-manylinux_2_12_x86_64.manylinux2010_x86_64.whl (15.7 MB)\n",
      "     |████████████████████████████████| 15.7 MB 217 kB/s            \n",
      "\u001b[?25hRequirement already satisfied: six>=1.5 in ./jupyterenv/lib/python3.9/site-packages (from python-dateutil>=2.7.3->pandas) (1.16.0)\n",
      "Installing collected packages: pytz, numpy, pandas\n",
      "Successfully installed numpy-1.21.4 pandas-1.3.5 pytz-2021.3\n"
     ]
    }
   ],
   "source": [
    "!pip install pandas"
   ]
  },
  {
   "cell_type": "code",
   "execution_count": 7,
   "id": "2a5615a4",
   "metadata": {},
   "outputs": [
    {
     "name": "stdout",
     "output_type": "stream",
     "text": [
      "Collecting pyarrow\n",
      "  Downloading pyarrow-6.0.1-cp39-cp39-manylinux_2_17_x86_64.manylinux2014_x86_64.whl (25.6 MB)\n",
      "     |████████████████████████████████| 25.6 MB 238 kB/s            \n",
      "\u001b[?25hRequirement already satisfied: numpy>=1.16.6 in ./jupyterenv/lib/python3.9/site-packages (from pyarrow) (1.21.4)\n",
      "Installing collected packages: pyarrow\n",
      "Successfully installed pyarrow-6.0.1\n"
     ]
    }
   ],
   "source": [
    "!pip install pyarrow"
   ]
  },
  {
   "cell_type": "code",
   "execution_count": 3,
   "id": "60c06610",
   "metadata": {},
   "outputs": [],
   "source": [
    "import pandas as pd"
   ]
  },
  {
   "cell_type": "code",
   "execution_count": 8,
   "id": "be3bb33b",
   "metadata": {},
   "outputs": [],
   "source": [
    "df = pd.read_parquet('part-00000-336af8a5-a5ae-4e86-83e7-d1182f58b008.c000.snappy.parquet')\n",
    "df.to_csv('ChequesNacionalesRecibidos.csv')"
   ]
  },
  {
   "cell_type": "code",
   "execution_count": null,
   "id": "77f0e29d",
   "metadata": {},
   "outputs": [],
   "source": []
  }
 ],
 "metadata": {
  "kernelspec": {
   "display_name": "Python 3 (ipykernel)",
   "language": "python",
   "name": "python3"
  },
  "language_info": {
   "codemirror_mode": {
    "name": "ipython",
    "version": 3
   },
   "file_extension": ".py",
   "mimetype": "text/x-python",
   "name": "python",
   "nbconvert_exporter": "python",
   "pygments_lexer": "ipython3",
   "version": "3.9.2"
  }
 },
 "nbformat": 4,
 "nbformat_minor": 5
}
